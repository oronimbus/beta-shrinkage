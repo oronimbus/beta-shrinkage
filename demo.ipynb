{
 "cells": [
  {
   "cell_type": "markdown",
   "metadata": {},
   "source": [
    "# Beta Shrinkage"
   ]
  },
  {
   "cell_type": "code",
   "execution_count": 68,
   "metadata": {},
   "outputs": [],
   "source": [
    "%%capture\n",
    "%load_ext autoreload\n",
    "%autoreload 2\n",
    "\n",
    "import numpy as np\n",
    "import yfinance as yf\n",
    "\n",
    "from beta import Beta\n",
    "\n",
    "data = yf.download(\"AAPL SPY\", start=\"2020-01-01\", end=\"2021-01-01\", progress=False)[\"Adj Close\"]\n",
    "returns = data.pct_change().dropna()"
   ]
  },
  {
   "cell_type": "code",
   "execution_count": 67,
   "metadata": {},
   "outputs": [
    {
     "name": "stdout",
     "output_type": "stream",
     "text": [
      "\n",
      "    Beta Calculation Methods\n",
      "    ------------------------\n",
      "    Benchmark: 1.1571\n",
      "    Classic OLS: 1.1571\n",
      "    Adjusted OLS: 1.1052\n",
      "    Vasicek: 1.1556\n",
      "    Welch: 1.1563\n",
      "    Welch (aged): 1.2160\n",
      "    Robeco: 0.4897\n",
      "    Scholes-Williams: 0.8246\n",
      "    \n",
      "\n"
     ]
    }
   ],
   "source": [
    "benchmark = returns.cov().iloc[0,1] / returns[\"SPY\"].var()\n",
    "ols_classic = Beta(returns[\"SPY\"], returns[\"AAPL\"]).ols(False)\n",
    "ols_adj = Beta(returns[\"SPY\"], returns[\"AAPL\"]).ols(True)\n",
    "vasicek = Beta(returns[\"SPY\"], returns[\"AAPL\"]).vasicek()\n",
    "welch_classic = Beta(returns[\"SPY\"], returns[\"AAPL\"]).welch()\n",
    "welch_aged = Beta(returns[\"SPY\"], returns[\"AAPL\"]).welch(rho=2/256)\n",
    "robeco = Beta(returns[\"SPY\"], returns[\"AAPL\"]).robeco(0.5, 1.2)\n",
    "scholes_williams = Beta(returns[\"SPY\"], returns[\"AAPL\"]).scholes_williams()\n",
    "\n",
    "report = \"\"\"\n",
    "    Beta Calculation Methods\n",
    "    ------------------------\n",
    "    Benchmark: {:.4f}\n",
    "    Classic OLS: {:.4f}\n",
    "    Adjusted OLS: {:.4f}\n",
    "    Vasicek: {:.4f}\n",
    "    Welch: {:.4f}\n",
    "    Welch (aged): {:.4f}\n",
    "    Robeco: {:.4f}\n",
    "    Scholes-Williams: {:.4f}\n",
    "    \n",
    "\"\"\".format(benchmark, ols_classic, ols_adj, vasicek, welch_classic, welch_aged, robeco, scholes_williams)\n",
    "print(report)"
   ]
  }
 ],
 "metadata": {
  "kernelspec": {
   "display_name": "Python 3.8.9 ('dev')",
   "language": "python",
   "name": "python3"
  },
  "language_info": {
   "codemirror_mode": {
    "name": "ipython",
    "version": 3
   },
   "file_extension": ".py",
   "mimetype": "text/x-python",
   "name": "python",
   "nbconvert_exporter": "python",
   "pygments_lexer": "ipython3",
   "version": "3.8.9"
  },
  "orig_nbformat": 4,
  "vscode": {
   "interpreter": {
    "hash": "ec64a4d0bbcb2c2b0eef540b2e90414f891bee5ed658bf7f884aa4a3dd4ddfa7"
   }
  }
 },
 "nbformat": 4,
 "nbformat_minor": 2
}
